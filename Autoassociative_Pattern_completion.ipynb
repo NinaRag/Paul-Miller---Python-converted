{
  "nbformat": 4,
  "nbformat_minor": 0,
  "metadata": {
    "colab": {
      "name": "Autoassociative - Pattern completion",
      "provenance": [],
      "collapsed_sections": [],
      "authorship_tag": "ABX9TyNaKlNSZHyrDab1w8Ac4/qN",
      "include_colab_link": true
    },
    "kernelspec": {
      "name": "python3",
      "display_name": "Python 3"
    },
    "language_info": {
      "name": "python"
    }
  },
  "cells": [
    {
      "cell_type": "markdown",
      "metadata": {
        "id": "view-in-github",
        "colab_type": "text"
      },
      "source": [
        "<a href=\"https://colab.research.google.com/github/NinaRag/Paul-Miller---Python-converted/blob/main/Autoassociative_Pattern_completion.ipynb\" target=\"_parent\"><img src=\"https://colab.research.google.com/assets/colab-badge.svg\" alt=\"Open In Colab\"/></a>"
      ]
    },
    {
      "cell_type": "code",
      "execution_count": 1,
      "metadata": {
        "id": "ib1r-so7vZLv",
        "colab": {
          "base_uri": "https://localhost:8080/"
        },
        "outputId": "7dcb2d4a-87ab-4a05-d779-934e8fb0451b"
      },
      "outputs": [
        {
          "output_type": "stream",
          "name": "stdout",
          "text": [
            "[[-0.00103806 -0.00103806 -0.00103806 ... -0.00103806 -0.00103806\n",
            "  -0.00103806]\n",
            " [-0.00103806 -0.00103806 -0.00103806 ... -0.00103806 -0.00103806\n",
            "  -0.00103806]\n",
            " [-0.00103806 -0.00103806 -0.00103806 ... -0.00103806 -0.00103806\n",
            "  -0.00103806]\n",
            " ...\n",
            " [-0.00103806 -0.00103806 -0.00103806 ... -0.00103806 -0.00103806\n",
            "  -0.00103806]\n",
            " [-0.00103806 -0.00103806 -0.00103806 ... -0.00103806 -0.00103806\n",
            "  -0.00103806]\n",
            " [-0.00103806 -0.00103806 -0.00103806 ... -0.00103806 -0.00103806\n",
            "  -0.00103806]]\n"
          ]
        }
      ],
      "source": [
        "import numpy as np \n",
        "rule=4;\n",
        "np.random.seed(7)\n",
        "N1 = 17; \n",
        "viewmatrix= np.zeros([N1, N1])\n",
        "Ncells = viewmatrix.size; \n",
        "Ntrials = 404; \n",
        "inputstrength = 50; \n",
        "Wmean = -0.3/Ncells; \n",
        "W =  np.zeros([Ncells, Ncells])+Wmean\n",
        "print(W)\n"
      ]
    },
    {
      "cell_type": "code",
      "source": [
        "print(W.shape)"
      ],
      "metadata": {
        "colab": {
          "base_uri": "https://localhost:8080/"
        },
        "id": "pBsvUHHeLrB4",
        "outputId": "64c5b6bb-7b66-4dbb-d482-c6221897ea14"
      },
      "execution_count": null,
      "outputs": [
        {
          "output_type": "stream",
          "name": "stdout",
          "text": [
            "(289, 289)\n"
          ]
        }
      ]
    },
    {
      "cell_type": "code",
      "source": [
        "Npatterns = 4; \n",
        "pattern1 = np.zeros([N1, N1]);\n",
        "pattern2 = np.zeros([N1, N1]);\n",
        "pattern3 = np.zeros([N1, N1]);\n",
        "pattern4 = np.zeros([N1, N1]);\n",
        "print(len(pattern1))"
      ],
      "metadata": {
        "colab": {
          "base_uri": "https://localhost:8080/"
        },
        "id": "hULvV-f_DJTs",
        "outputId": "9d0e9be6-baf9-4341-e982-6a2dd2f65f99"
      },
      "execution_count": 2,
      "outputs": [
        {
          "output_type": "stream",
          "name": "stdout",
          "text": [
            "17\n"
          ]
        }
      ]
    },
    {
      "cell_type": "code",
      "source": [
        "pattern3 = np.zeros([N1, N1]);"
      ],
      "metadata": {
        "id": "SsUOXpiFM8JY"
      },
      "execution_count": 3,
      "outputs": []
    },
    {
      "cell_type": "code",
      "source": [
        "for i in range(0, len(pattern1)):\n",
        "  pattern1[i,i] = 1;\n",
        "  pattern1[i,N1-1-i] = 1;    \n",
        "\n",
        "print(pattern1)"
      ],
      "metadata": {
        "colab": {
          "base_uri": "https://localhost:8080/"
        },
        "id": "mi_gtX0OEhlS",
        "outputId": "b482039a-ccda-4d3c-cdf8-9298d6692843"
      },
      "execution_count": 4,
      "outputs": [
        {
          "output_type": "stream",
          "name": "stdout",
          "text": [
            "[[1. 0. 0. 0. 0. 0. 0. 0. 0. 0. 0. 0. 0. 0. 0. 0. 1.]\n",
            " [0. 1. 0. 0. 0. 0. 0. 0. 0. 0. 0. 0. 0. 0. 0. 1. 0.]\n",
            " [0. 0. 1. 0. 0. 0. 0. 0. 0. 0. 0. 0. 0. 0. 1. 0. 0.]\n",
            " [0. 0. 0. 1. 0. 0. 0. 0. 0. 0. 0. 0. 0. 1. 0. 0. 0.]\n",
            " [0. 0. 0. 0. 1. 0. 0. 0. 0. 0. 0. 0. 1. 0. 0. 0. 0.]\n",
            " [0. 0. 0. 0. 0. 1. 0. 0. 0. 0. 0. 1. 0. 0. 0. 0. 0.]\n",
            " [0. 0. 0. 0. 0. 0. 1. 0. 0. 0. 1. 0. 0. 0. 0. 0. 0.]\n",
            " [0. 0. 0. 0. 0. 0. 0. 1. 0. 1. 0. 0. 0. 0. 0. 0. 0.]\n",
            " [0. 0. 0. 0. 0. 0. 0. 0. 1. 0. 0. 0. 0. 0. 0. 0. 0.]\n",
            " [0. 0. 0. 0. 0. 0. 0. 1. 0. 1. 0. 0. 0. 0. 0. 0. 0.]\n",
            " [0. 0. 0. 0. 0. 0. 1. 0. 0. 0. 1. 0. 0. 0. 0. 0. 0.]\n",
            " [0. 0. 0. 0. 0. 1. 0. 0. 0. 0. 0. 1. 0. 0. 0. 0. 0.]\n",
            " [0. 0. 0. 0. 1. 0. 0. 0. 0. 0. 0. 0. 1. 0. 0. 0. 0.]\n",
            " [0. 0. 0. 1. 0. 0. 0. 0. 0. 0. 0. 0. 0. 1. 0. 0. 0.]\n",
            " [0. 0. 1. 0. 0. 0. 0. 0. 0. 0. 0. 0. 0. 0. 1. 0. 0.]\n",
            " [0. 1. 0. 0. 0. 0. 0. 0. 0. 0. 0. 0. 0. 0. 0. 1. 0.]\n",
            " [1. 0. 0. 0. 0. 0. 0. 0. 0. 0. 0. 0. 0. 0. 0. 0. 1.]]\n"
          ]
        }
      ]
    },
    {
      "cell_type": "code",
      "source": [
        "import math\n",
        "leng =len(pattern2)\n",
        "for i in range(int(leng/2)-1):\n",
        "  \n",
        "  pattern2[i,i+2] = 1;               \n",
        "  pattern2[i,i+3] = 1;                \n",
        "  pattern2[i,N1-3-i] = 1;             \n",
        "  pattern2[i,N1-4-i] = 1;\n",
        "\n",
        "ceiling = math.ceil((N1+2)/2)-3\n",
        "floor = math.floor((N1+2)/2)\n",
        "\n",
        "for i in range(ceiling, N1):\n",
        "    pattern2[i,floor-1] = 1;\n",
        "\n",
        "print(pattern2)"
      ],
      "metadata": {
        "colab": {
          "base_uri": "https://localhost:8080/"
        },
        "id": "aM2JjP2-I-2E",
        "outputId": "46b042a6-6e75-43d2-a9f9-c658dd51bf8f"
      },
      "execution_count": 5,
      "outputs": [
        {
          "output_type": "stream",
          "name": "stdout",
          "text": [
            "[[0. 0. 1. 1. 0. 0. 0. 0. 0. 0. 0. 0. 0. 1. 1. 0. 0.]\n",
            " [0. 0. 0. 1. 1. 0. 0. 0. 0. 0. 0. 0. 1. 1. 0. 0. 0.]\n",
            " [0. 0. 0. 0. 1. 1. 0. 0. 0. 0. 0. 1. 1. 0. 0. 0. 0.]\n",
            " [0. 0. 0. 0. 0. 1. 1. 0. 0. 0. 1. 1. 0. 0. 0. 0. 0.]\n",
            " [0. 0. 0. 0. 0. 0. 1. 1. 0. 1. 1. 0. 0. 0. 0. 0. 0.]\n",
            " [0. 0. 0. 0. 0. 0. 0. 1. 1. 1. 0. 0. 0. 0. 0. 0. 0.]\n",
            " [0. 0. 0. 0. 0. 0. 0. 1. 1. 1. 0. 0. 0. 0. 0. 0. 0.]\n",
            " [0. 0. 0. 0. 0. 0. 0. 0. 1. 0. 0. 0. 0. 0. 0. 0. 0.]\n",
            " [0. 0. 0. 0. 0. 0. 0. 0. 1. 0. 0. 0. 0. 0. 0. 0. 0.]\n",
            " [0. 0. 0. 0. 0. 0. 0. 0. 1. 0. 0. 0. 0. 0. 0. 0. 0.]\n",
            " [0. 0. 0. 0. 0. 0. 0. 0. 1. 0. 0. 0. 0. 0. 0. 0. 0.]\n",
            " [0. 0. 0. 0. 0. 0. 0. 0. 1. 0. 0. 0. 0. 0. 0. 0. 0.]\n",
            " [0. 0. 0. 0. 0. 0. 0. 0. 1. 0. 0. 0. 0. 0. 0. 0. 0.]\n",
            " [0. 0. 0. 0. 0. 0. 0. 0. 1. 0. 0. 0. 0. 0. 0. 0. 0.]\n",
            " [0. 0. 0. 0. 0. 0. 0. 0. 1. 0. 0. 0. 0. 0. 0. 0. 0.]\n",
            " [0. 0. 0. 0. 0. 0. 0. 0. 1. 0. 0. 0. 0. 0. 0. 0. 0.]\n",
            " [0. 0. 0. 0. 0. 0. 0. 0. 1. 0. 0. 0. 0. 0. 0. 0. 0.]]\n"
          ]
        }
      ]
    },
    {
      "cell_type": "code",
      "source": [
        "for j in range(0, N1):\n",
        "    pattern3[0,j] = 1;                  \n",
        "    pattern3[N1-1,j] = 1;                 \n",
        "    if ( j > 1 ):\n",
        "        pattern3[N1-j,j] = 1;          \n",
        "    \n",
        "print(pattern3)"
      ],
      "metadata": {
        "colab": {
          "base_uri": "https://localhost:8080/"
        },
        "id": "vJNeEmlUPVlx",
        "outputId": "e3c40d9d-82a0-49bc-a230-1c379183c0b1"
      },
      "execution_count": 9,
      "outputs": [
        {
          "output_type": "stream",
          "name": "stdout",
          "text": [
            "[[1. 1. 1. 1. 1. 1. 1. 1. 1. 1. 1. 1. 1. 1. 1. 1. 1.]\n",
            " [0. 0. 0. 0. 0. 0. 0. 0. 0. 0. 0. 0. 0. 0. 0. 0. 1.]\n",
            " [0. 0. 0. 0. 0. 0. 0. 0. 0. 0. 0. 0. 0. 0. 0. 1. 0.]\n",
            " [0. 0. 0. 0. 0. 0. 0. 0. 0. 0. 0. 0. 0. 0. 1. 0. 0.]\n",
            " [0. 0. 0. 0. 0. 0. 0. 0. 0. 0. 0. 0. 0. 1. 0. 0. 0.]\n",
            " [0. 0. 0. 0. 0. 0. 0. 0. 0. 0. 0. 0. 1. 0. 0. 0. 0.]\n",
            " [0. 0. 0. 0. 0. 0. 0. 0. 0. 0. 0. 1. 0. 0. 0. 0. 0.]\n",
            " [0. 0. 0. 0. 0. 0. 0. 0. 0. 0. 1. 0. 0. 0. 0. 0. 0.]\n",
            " [0. 0. 0. 0. 0. 0. 0. 0. 0. 1. 0. 0. 0. 0. 0. 0. 0.]\n",
            " [0. 0. 0. 0. 0. 0. 0. 0. 1. 0. 0. 0. 0. 0. 0. 0. 0.]\n",
            " [0. 0. 0. 0. 0. 0. 0. 1. 0. 0. 0. 0. 0. 0. 0. 0. 0.]\n",
            " [0. 0. 0. 0. 0. 0. 1. 0. 0. 0. 0. 0. 0. 0. 0. 0. 0.]\n",
            " [0. 0. 0. 0. 0. 1. 0. 0. 0. 0. 0. 0. 0. 0. 0. 0. 0.]\n",
            " [0. 0. 0. 0. 1. 0. 0. 0. 0. 0. 0. 0. 0. 0. 0. 0. 0.]\n",
            " [0. 0. 0. 1. 0. 0. 0. 0. 0. 0. 0. 0. 0. 0. 0. 0. 0.]\n",
            " [0. 0. 1. 0. 0. 0. 0. 0. 0. 0. 0. 0. 0. 0. 0. 0. 0.]\n",
            " [1. 1. 1. 1. 1. 1. 1. 1. 1. 1. 1. 1. 1. 1. 1. 1. 1.]]\n"
          ]
        }
      ]
    },
    {
      "cell_type": "code",
      "source": [
        "pattern3 = np.zeros([N1, N1]);"
      ],
      "metadata": {
        "id": "1a51QSzgQB17"
      },
      "execution_count": 7,
      "outputs": []
    },
    {
      "cell_type": "code",
      "source": [
        "for i in range(1,N1-1):\n",
        "    pattern4[i,1] = 1;                  \n",
        "    pattern4[i,N1-2] = 1;               \n",
        "\n",
        "for j in range(1, N1-1):\n",
        "    pattern4[1,j] = 1;                  \n",
        "    pattern4[N1-2,j] = 1;               \n",
        "\n",
        "\n",
        "print(pattern4)"
      ],
      "metadata": {
        "colab": {
          "base_uri": "https://localhost:8080/"
        },
        "id": "uNoLLQHoQeaK",
        "outputId": "42921375-d6a1-476b-8925-4c0cd02bdeba"
      },
      "execution_count": 10,
      "outputs": [
        {
          "output_type": "stream",
          "name": "stdout",
          "text": [
            "[[0. 0. 0. 0. 0. 0. 0. 0. 0. 0. 0. 0. 0. 0. 0. 0. 0.]\n",
            " [0. 1. 1. 1. 1. 1. 1. 1. 1. 1. 1. 1. 1. 1. 1. 1. 0.]\n",
            " [0. 1. 0. 0. 0. 0. 0. 0. 0. 0. 0. 0. 0. 0. 0. 1. 0.]\n",
            " [0. 1. 0. 0. 0. 0. 0. 0. 0. 0. 0. 0. 0. 0. 0. 1. 0.]\n",
            " [0. 1. 0. 0. 0. 0. 0. 0. 0. 0. 0. 0. 0. 0. 0. 1. 0.]\n",
            " [0. 1. 0. 0. 0. 0. 0. 0. 0. 0. 0. 0. 0. 0. 0. 1. 0.]\n",
            " [0. 1. 0. 0. 0. 0. 0. 0. 0. 0. 0. 0. 0. 0. 0. 1. 0.]\n",
            " [0. 1. 0. 0. 0. 0. 0. 0. 0. 0. 0. 0. 0. 0. 0. 1. 0.]\n",
            " [0. 1. 0. 0. 0. 0. 0. 0. 0. 0. 0. 0. 0. 0. 0. 1. 0.]\n",
            " [0. 1. 0. 0. 0. 0. 0. 0. 0. 0. 0. 0. 0. 0. 0. 1. 0.]\n",
            " [0. 1. 0. 0. 0. 0. 0. 0. 0. 0. 0. 0. 0. 0. 0. 1. 0.]\n",
            " [0. 1. 0. 0. 0. 0. 0. 0. 0. 0. 0. 0. 0. 0. 0. 1. 0.]\n",
            " [0. 1. 0. 0. 0. 0. 0. 0. 0. 0. 0. 0. 0. 0. 0. 1. 0.]\n",
            " [0. 1. 0. 0. 0. 0. 0. 0. 0. 0. 0. 0. 0. 0. 0. 1. 0.]\n",
            " [0. 1. 0. 0. 0. 0. 0. 0. 0. 0. 0. 0. 0. 0. 0. 1. 0.]\n",
            " [0. 1. 1. 1. 1. 1. 1. 1. 1. 1. 1. 1. 1. 1. 1. 1. 0.]\n",
            " [0. 0. 0. 0. 0. 0. 0. 0. 0. 0. 0. 0. 0. 0. 0. 0. 0.]]\n"
          ]
        }
      ]
    },
    {
      "cell_type": "code",
      "source": [
        "all_patterns = np.zeros([N1,N1,Npatterns])\n",
        "all_patterns[:,:,0]=pattern1\n",
        "all_patterns[:,:,1]=pattern2\n",
        "all_patterns[:,:,2]=pattern3\n",
        "all_patterns[:,:,3]=pattern4"
      ],
      "metadata": {
        "id": "_DNCgw46RbzY"
      },
      "execution_count": 11,
      "outputs": []
    },
    {
      "cell_type": "code",
      "source": [
        "dt = 0.001;         \n",
        "tau = 0.010;       \n",
        "tmax = 1;     \n",
        "t=[]     \n",
        "for i in np.arange(0, 1.001, 0.001):\n",
        "\tt.append(i)\n",
        "\n",
        "Nt=len(t)\n",
        "print(Nt)\n",
        "rmax = 50;              \n",
        "gain = 1;               \n",
        "threshold = 10;"
      ],
      "metadata": {
        "colab": {
          "base_uri": "https://localhost:8080/"
        },
        "id": "Ne4jJ8A5TP79",
        "outputId": "7c056c66-31eb-4039-ade7-605e5fa58089"
      },
      "execution_count": 12,
      "outputs": [
        {
          "output_type": "stream",
          "name": "stdout",
          "text": [
            "1001\n"
          ]
        }
      ]
    },
    {
      "cell_type": "code",
      "source": [
        "if rule==1:\n",
        "  rate_thresh = rmax/2;\n",
        "  epsilon = 0.1/Ncells;\n",
        "elif rule==2:\n",
        "  rate_thresh = rmax/2;\n",
        "  epsilon = 0.1/Ncells;    \n",
        "  LTD_factor = 0.15;\n",
        "elif rule==3:\n",
        "  rate_thresh = rmax/2; \n",
        "  epsilon = 0.1/Ncells;      \n",
        "  LTD_factor = 0.4; \n",
        "elif rule==4:\n",
        "  rate_thresh = rmax/2;\n",
        "  epsilon = 0.1/Ncells;     \n",
        "  LTD_factor = 0.25;  \n",
        "elif rule==5:\n",
        "  rate_thresh = 0.9*rmax; \n",
        "  epsilon = 0.005/Ncells;"
      ],
      "metadata": {
        "id": "44dJuZVrWzEQ"
      },
      "execution_count": 13,
      "outputs": []
    },
    {
      "cell_type": "code",
      "source": [
        "Wmax = 8/Ncells;     \n",
        "Wmin = -8/Ncells;\n",
        "errorprob_train = 0.1;"
      ],
      "metadata": {
        "id": "FRxRgRkwXugQ"
      },
      "execution_count": 14,
      "outputs": []
    },
    {
      "cell_type": "code",
      "source": [
        "print(np.random.randint(1, Npatterns))\n",
        "print(np.random.randint(1, Npatterns))\n",
        "\n",
        "print(np.random.randint(1, Npatterns))\n",
        "\n",
        "print(np.random.randint(1, Npatterns))\n",
        "\n",
        "selectpattern =np.random.randint(1, Npatterns)\n",
        "input_pattern = all_patterns[:,:,selectpattern];\n",
        "print(input_pattern)"
      ],
      "metadata": {
        "colab": {
          "base_uri": "https://localhost:8080/"
        },
        "id": "i54J6CH-ZNLX",
        "outputId": "b7365731-1ecb-4431-e10f-85601b10b011"
      },
      "execution_count": null,
      "outputs": [
        {
          "output_type": "stream",
          "name": "stdout",
          "text": [
            "1\n",
            "2\n",
            "3\n",
            "3\n",
            "[[0. 0. 0. 0. 0. 0. 0. 0. 0. 0. 0. 0. 0. 0. 0. 0. 0.]\n",
            " [0. 1. 1. 1. 1. 1. 1. 1. 1. 1. 1. 1. 1. 1. 1. 1. 0.]\n",
            " [0. 1. 0. 0. 0. 0. 0. 0. 0. 0. 0. 0. 0. 0. 0. 1. 0.]\n",
            " [0. 1. 0. 0. 0. 0. 0. 0. 0. 0. 0. 0. 0. 0. 0. 1. 0.]\n",
            " [0. 1. 0. 0. 0. 0. 0. 0. 0. 0. 0. 0. 0. 0. 0. 1. 0.]\n",
            " [0. 1. 0. 0. 0. 0. 0. 0. 0. 0. 0. 0. 0. 0. 0. 1. 0.]\n",
            " [0. 1. 0. 0. 0. 0. 0. 0. 0. 0. 0. 0. 0. 0. 0. 1. 0.]\n",
            " [0. 1. 0. 0. 0. 0. 0. 0. 0. 0. 0. 0. 0. 0. 0. 1. 0.]\n",
            " [0. 1. 0. 0. 0. 0. 0. 0. 0. 0. 0. 0. 0. 0. 0. 1. 0.]\n",
            " [0. 1. 0. 0. 0. 0. 0. 0. 0. 0. 0. 0. 0. 0. 0. 1. 0.]\n",
            " [0. 1. 0. 0. 0. 0. 0. 0. 0. 0. 0. 0. 0. 0. 0. 1. 0.]\n",
            " [0. 1. 0. 0. 0. 0. 0. 0. 0. 0. 0. 0. 0. 0. 0. 1. 0.]\n",
            " [0. 1. 0. 0. 0. 0. 0. 0. 0. 0. 0. 0. 0. 0. 0. 1. 0.]\n",
            " [0. 1. 0. 0. 0. 0. 0. 0. 0. 0. 0. 0. 0. 0. 0. 1. 0.]\n",
            " [0. 1. 0. 0. 0. 0. 0. 0. 0. 0. 0. 0. 0. 0. 0. 1. 0.]\n",
            " [0. 1. 1. 1. 1. 1. 1. 1. 1. 1. 1. 1. 1. 1. 1. 1. 0.]\n",
            " [0. 0. 0. 0. 0. 0. 0. 0. 0. 0. 0. 0. 0. 0. 0. 0. 0.]]\n"
          ]
        }
      ]
    },
    {
      "cell_type": "code",
      "source": [
        "from pylab import *\n",
        "\n",
        "for trial in range(1,Ntrials+1):                      \n",
        "    rate = np.zeros([Nt,Ncells]);               \n",
        "    selectpattern = np.random.randint(1, Npatterns);   \n",
        "    \n",
        "    input_pattern = all_patterns[:,:,selectpattern];\n",
        "\n",
        "    values = np.random.rand(Ncells, 1)\n",
        "    flipinputs = []\n",
        "    for i in range(len(values)):\n",
        "      if(values[i] < errorprob_train):\n",
        "        flipinputs.append(i);\n",
        "\n",
        "    X= input_pattern\n",
        "\n",
        "\n",
        "    X = X.flatten('F')\n",
        "\n",
        "    for i in range(len(X)):\n",
        "      if i in flipinputs[0:]:\n",
        "        X[flipinputs] = 1-X[flipinputs]\n",
        "    \n",
        "    input_pattern = np.reshape(X, (17, 17), order='F')\n",
        "\n",
        "    for i in range(1,Nt):                \n",
        "      if ( i < Nt / 2 ):           \n",
        "        \n",
        "        Y= input_pattern\n",
        "        Y = Y.flatten('F')\n",
        "        Y= Y.reshape(1,-1)\n",
        "        Temp1 = np.multiply(Y,inputstrength)\n",
        "        \n",
        "        Temp2 = np.dot(rate[i-1].reshape(1,-1),W)\n",
        "        \n",
        "        current = Temp1 + Temp2;\n",
        "      else:\n",
        "        current = np.multiply(rate[i-1].reshape(1,-1),W)   \n",
        "      \n",
        "\n",
        "      Temp3 = -gain*(current-threshold);  \n",
        "      Temp4 = 1 + np.exp(Temp3)\n",
        "      rss = np.divide(rmax, Temp4);\n",
        "      \n",
        "      Temp5 = rss - rate[i-1].reshape(1,-1)\n",
        "      Temp6 = np.multiply (Temp5, (dt/tau))\n",
        "      qi = np.add(rate[i-1].reshape(1,-1), Temp6)\n",
        "      #print(qi.shape)\n",
        "      #qi=qi.reshape(289,)\n",
        "      #rate[i] = qi\n",
        "        \n",
        "    k= viewmatrix\n",
        "    k = k.flatten('F')\n",
        "    k = k.transpose()\n",
        "    k = rate[len(rate)-1];\n",
        "    viewmatrix = np.reshape(k, (17, 17), order='F')\n",
        "    \n",
        "    rate1 = rate.transpose();\n",
        "    if rule == 1:\n",
        "      rate1 = rate.transpose();\n",
        "      dW=np.dot(np.where(rate1>rate_thresh,1,0), np.where(rate>rate_thresh,1,0))\n",
        "    elif rule == 2:\n",
        "      dW=np.dot(np.where(rate1>rate_thresh,1,0), np.where(rate>rate_thresh,1,0))\n",
        "      dW= dW - np.multiply(LTD_factor, np.dot(np.where(rate1>rate_thresh,1,0), np.where(rate<rate_thresh,1,0)))\n",
        "      dW= dW - np.multiply(LTD_factor, np.dot(np.where(rate1<rate_thresh,1,0), np.where(rate>rate_thresh,1,0)))\n",
        "\n",
        "    elif rule == 3:\n",
        "      dW=np.dot(np.where(rate1>rate_thresh,1,0), np.where(rate>rate_thresh,1,0))\n",
        "      dW= dW - np.multiply(LTD_factor, np.dot(np.where(rate1>rate_thresh,1,0), np.where(rate<rate_thresh,1,0)))\n",
        "    elif rule == 4:\n",
        "      dW = np.dot(np.where(rate1>rate_thresh,1,0), np.where(rate>rate_thresh,1,0))\n",
        "      dW= dW - np.multiply(LTD_factor, np.dot(np.where(rate1<rate_thresh,1,0), np.where(rate>rate_thresh,1,0)))\n",
        "    elif rule == 5:\n",
        "       temp = np.multiply(rate, np.subtract(rate, rate_thresh));\n",
        "       dW = np.dot(rate1, temp)\n",
        "\n",
        "    W = np.add(W,np.multiply(W, epsilon*dt))\n",
        "    W[W>Wmax] = Wmax\n",
        "    W[W<Wmin] = Wmin\n",
        "\n",
        "    if rule==1:\n",
        "      m1 = W.mean(1)\n",
        "      m2 = m1.mean()\n",
        "      W = np.subtract (W, m2+Wmean)\n",
        "  \n",
        "    if (trial%100) < 5 :\n",
        "      \n",
        "      imshow(input_pattern)        \n",
        "      \n",
        "             \n",
        "       \n",
        "      plt.show()"
      ],
      "metadata": {
        "colab": {
          "base_uri": "https://localhost:8080/",
          "height": 1000
        },
        "id": "wy9L8pKkYDIR",
        "outputId": "819c0e8b-f3d6-4f99-9536-16b870a23891"
      },
      "execution_count": 15,
      "outputs": [
        {
          "output_type": "display_data",
          "data": {
            "image/png": "[encoded data removed]",
            "text/plain": [
              "<Figure size 432x288 with 1 Axes>"
            ]
          },
          "metadata": {
            "needs_background": "light"
          }
        },
        {
          "output_type": "display_data",
          "data": {
            "image/png": "[encoded data removed]",
            "text/plain": [
              "<Figure size 432x288 with 1 Axes>"
            ]
          },
          "metadata": {
            "needs_background": "light"
          }
        },
        {
          "output_type": "display_data",
          "data": {
            "image/png": "[encoded data removed]",
            "text/plain": [
              "<Figure size 432x288 with 1 Axes>"
            ]
          },
          "metadata": {
            "needs_background": "light"
          }
        },
        {
          "output_type": "display_data",
          "data": {
            "image/png": "[encoded data removed]",
            "text/plain": [
              "<Figure size 432x288 with 1 Axes>"
            ]
          },
          "metadata": {
            "needs_background": "light"
          }
        },
        {
          "output_type": "display_data",
          "data": {
            "image/png": "[encoded data removed]",
            "text/plain": [
              "<Figure size 432x288 with 1 Axes>"
            ]
          },
          "metadata": {
            "needs_background": "light"
          }
        },
        {
          "output_type": "display_data",
          "data": {
            "image/png": "[encoded data removed]",
            "text/plain": [
              "<Figure size 432x288 with 1 Axes>"
            ]
          },
          "metadata": {
            "needs_background": "light"
          }
        },
        {
          "output_type": "display_data",
          "data": {
            "image/png": "[encoded data removed]",
            "text/plain": [
              "<Figure size 432x288 with 1 Axes>"
            ]
          },
          "metadata": {
            "needs_background": "light"
          }
        },
        {
          "output_type": "display_data",
          "data": {
            "image/png": "[encoded data removed]",
            "text/plain": [
              "<Figure size 432x288 with 1 Axes>"
            ]
          },
          "metadata": {
            "needs_background": "light"
          }
        },
        {
          "output_type": "display_data",
          "data": {
            "image/png": "[encoded data removed]",
            "text/plain": [
              "<Figure size 432x288 with 1 Axes>"
            ]
          },
          "metadata": {
            "needs_background": "light"
          }
        },
        {
          "output_type": "display_data",
          "data": {
            "image/png": "[encoded data removed]",
            "text/plain": [
              "<Figure size 432x288 with 1 Axes>"
            ]
          },
          "metadata": {
            "needs_background": "light"
          }
        },
        {
          "output_type": "display_data",
          "data": {
            "image/png": "[encoded data removed]",
            "text/plain": [
              "<Figure size 432x288 with 1 Axes>"
            ]
          },
          "metadata": {
            "needs_background": "light"
          }
        },
        {
          "output_type": "display_data",
          "data": {
            "image/png": "[encoded data removed]",
            "text/plain": [
              "<Figure size 432x288 with 1 Axes>"
            ]
          },
          "metadata": {
            "needs_background": "light"
          }
        },
        {
          "output_type": "display_data",
          "data": {
            "image/png": "[encoded data removed]",
            "text/plain": [
              "<Figure size 432x288 with 1 Axes>"
            ]
          },
          "metadata": {
            "needs_background": "light"
          }
        },
        {
          "output_type": "display_data",
          "data": {
            "image/png": "[encoded data removed]",
            "text/plain": [
              "<Figure size 432x288 with 1 Axes>"
            ]
          },
          "metadata": {
            "needs_background": "light"
          }
        },
        {
          "output_type": "display_data",
          "data": {
            "image/png": "[encoded data removed]",
            "text/plain": [
              "<Figure size 432x288 with 1 Axes>"
            ]
          },
          "metadata": {
            "needs_background": "light"
          }
        },
        {
          "output_type": "display_data",
          "data": {
            "image/png": "[encoded data removed]",
            "text/plain": [
              "<Figure size 432x288 with 1 Axes>"
            ]
          },
          "metadata": {
            "needs_background": "light"
          }
        },
        {
          "output_type": "display_data",
          "data": {
            "image/png": "[encoded data removed]",
            "text/plain": [
              "<Figure size 432x288 with 1 Axes>"
            ]
          },
          "metadata": {
            "needs_background": "light"
          }
        },
        {
          "output_type": "display_data",
          "data": {
            "image/png": "[encoded data removed]",
            "text/plain": [
              "<Figure size 432x288 with 1 Axes>"
            ]
          },
          "metadata": {
            "needs_background": "light"
          }
        },
        {
          "output_type": "display_data",
          "data": {
            "image/png": "[encoded data removed]",
            "text/plain": [
              "<Figure size 432x288 with 1 Axes>"
            ]
          },
          "metadata": {
            "needs_background": "light"
          }
        },
        {
          "output_type": "display_data",
          "data": {
            "image/png": "[encoded data removed]",
            "text/plain": [
              "<Figure size 432x288 with 1 Axes>"
            ]
          },
          "metadata": {
            "needs_background": "light"
          }
        },
        {
          "output_type": "display_data",
          "data": {
            "image/png": "[encoded data removed]",
            "text/plain": [
              "<Figure size 432x288 with 1 Axes>"
            ]
          },
          "metadata": {
            "needs_background": "light"
          }
        },
        {
          "output_type": "display_data",
          "data": {
            "image/png": "[encoded data removed]",
            "text/plain": [
              "<Figure size 432x288 with 1 Axes>"
            ]
          },
          "metadata": {
            "needs_background": "light"
          }
        },
        {
          "output_type": "display_data",
          "data": {
            "image/png": "[encoded data removed]",
            "text/plain": [
              "<Figure size 432x288 with 1 Axes>"
            ]
          },
          "metadata": {
            "needs_background": "light"
          }
        },
        {
          "output_type": "display_data",
          "data": {
            "image/png": "[encoded data removed]",
            "text/plain": [
              "<Figure size 432x288 with 1 Axes>"
            ]
          },
          "metadata": {
            "needs_background": "light"
          }
        }
      ]
    },
    {
      "cell_type": "code",
      "source": [
        "import matplotlib.pyplot as plt\n",
        "\n",
        "errorprob = 0.2; \n",
        "\n",
        "inputstrength = inputstrength*0.5; \n",
        "\n",
        "\n",
        "\n",
        "\n",
        "for trial in range(Npatterns):\n",
        "    rate = np.zeros([Nt,Ncells]);\n",
        "    selectpattern = trial;\n",
        "    \n",
        "   \n",
        "    input_pattern = all_patterns[:,:,selectpattern];\n",
        "    \n",
        "    values = np.random.rand(Ncells, 1)\n",
        "    flipinputs = []\n",
        "    for i in range(len(values)):\n",
        "      if(values[i] < errorprob_train):\n",
        "        flipinputs.append(i);\n",
        "    X= input_pattern\n",
        "\n",
        "\n",
        "    X = X.flatten('F')\n",
        "\n",
        "    for i in range(len(X)):\n",
        "      if i in flipinputs[0:]:\n",
        "        X[flipinputs] = 1-X[flipinputs]\n",
        "    \n",
        "    input_pattern = np.reshape(X, (17, 17), order='F')\n",
        "    \n",
        "    \n",
        "      \n",
        "    imshow(input_pattern);    \n",
        "       \n",
        "    plt.show()\n",
        "\n",
        "    for i in range(1,Nt):\n",
        "      if ( i < Nt / 2 ):\n",
        "        Y= input_pattern\n",
        "        Y = Y.flatten('F')\n",
        "        Y= Y.reshape(1,-1)\n",
        "        Temp1 = np.multiply(Y,inputstrength)\n",
        "        \n",
        "        Temp2 = np.dot(rate[i-1].reshape(1,-1),W)\n",
        "        \n",
        "        current = Temp1 + Temp2;\n",
        "      else:\n",
        "        current = np.multiply(rate[i-1].reshape(1,-1),W)\n",
        "        \n",
        "       \n",
        "      Temp3 = -gain*(current-threshold);  \n",
        "      Temp4 = 1 + np.exp(Temp3)\n",
        "      rss = np.divide(rmax, Temp4);\n",
        "\n",
        "      Temp5 = rss - rate[i-1].reshape(1,-1)\n",
        "      Temp6 = np.multiply (Temp5, (dt/tau))\n",
        "      qi = np.add(rate[i-1].reshape(1,-1), Temp6)\n",
        "      \n",
        "      rate[i] =qi.reshape(289,)\n",
        "    \n",
        "   \n",
        "    k= viewmatrix\n",
        "    k = k.flatten('F')\n",
        "    k = k.transpose()\n",
        "    k = rate[len(rate)-1];\n",
        "    viewmatrix = np.reshape(k, (17, 17), order='F')\n",
        "    \n",
        "    \n",
        "    \n",
        "   \n",
        "    imshow(viewmatrix);\n",
        "    plt.show()\n",
        "\n",
        "\n",
        "\n",
        "    "
      ],
      "metadata": {
        "colab": {
          "base_uri": "https://localhost:8080/",
          "height": 482
        },
        "id": "qRQyV-Z4XQdg",
        "outputId": "988b1dd6-93e2-4eaa-89db-dbc6fa8011c2"
      },
      "execution_count": 16,
      "outputs": [
        {
          "output_type": "display_data",
          "data": {
            "image/png": "[encoded data removed]",
            "text/plain": [
              "<Figure size 432x288 with 1 Axes>"
            ]
          },
          "metadata": {
            "needs_background": "light"
          }
        },
        {
          "output_type": "error",
          "ename": "ValueError",
          "evalue": "ignored",
          "traceback": [
            "\u001b[0;31m---------------------------------------------------------------------------\u001b[0m",
            "\u001b[0;31mValueError\u001b[0m                                Traceback (most recent call last)",
            "\u001b[0;32m<ipython-input-16-cd91a75202a4>\u001b[0m in \u001b[0;36m<module>\u001b[0;34m()\u001b[0m\n\u001b[1;32m     59\u001b[0m       \u001b[0mqi\u001b[0m \u001b[0;34m=\u001b[0m \u001b[0mnp\u001b[0m\u001b[0;34m.\u001b[0m\u001b[0madd\u001b[0m\u001b[0;34m(\u001b[0m\u001b[0mrate\u001b[0m\u001b[0;34m[\u001b[0m\u001b[0mi\u001b[0m\u001b[0;34m-\u001b[0m\u001b[0;36m1\u001b[0m\u001b[0;34m]\u001b[0m\u001b[0;34m.\u001b[0m\u001b[0mreshape\u001b[0m\u001b[0;34m(\u001b[0m\u001b[0;36m1\u001b[0m\u001b[0;34m,\u001b[0m\u001b[0;34m-\u001b[0m\u001b[0;36m1\u001b[0m\u001b[0;34m)\u001b[0m\u001b[0;34m,\u001b[0m \u001b[0mTemp6\u001b[0m\u001b[0;34m)\u001b[0m\u001b[0;34m\u001b[0m\u001b[0;34m\u001b[0m\u001b[0m\n\u001b[1;32m     60\u001b[0m \u001b[0;34m\u001b[0m\u001b[0m\n\u001b[0;32m---> 61\u001b[0;31m       \u001b[0mrate\u001b[0m\u001b[0;34m[\u001b[0m\u001b[0mi\u001b[0m\u001b[0;34m]\u001b[0m \u001b[0;34m=\u001b[0m\u001b[0mqi\u001b[0m\u001b[0;34m.\u001b[0m\u001b[0mreshape\u001b[0m\u001b[0;34m(\u001b[0m\u001b[0;36m289\u001b[0m\u001b[0;34m,\u001b[0m\u001b[0;34m)\u001b[0m\u001b[0;34m\u001b[0m\u001b[0;34m\u001b[0m\u001b[0m\n\u001b[0m\u001b[1;32m     62\u001b[0m \u001b[0;34m\u001b[0m\u001b[0m\n\u001b[1;32m     63\u001b[0m \u001b[0;34m\u001b[0m\u001b[0m\n",
            "\u001b[0;31mValueError\u001b[0m: cannot reshape array of size 83521 into shape (289,)"
          ]
        }
      ]
    },
    {
      "cell_type": "code",
      "source": [
        "from pylab import *"
      ],
      "metadata": {
        "id": "aMjs9TYfGHn8"
      },
      "execution_count": null,
      "outputs": []
    },
    {
      "cell_type": "code",
      "source": [
        "Y= input_pattern\n",
        "Y = Y.flatten('F')\n",
        "Y= Y.reshape(1,-1)\n",
        "Temp1 = np.multiply(Y,inputstrength)\n",
        "\n",
        "Temp2 = np.dot(rate[i-1].reshape(1,-1),W)\n",
        "\n",
        "current = Temp1 + Temp2;\n",
        "\n",
        "\n",
        "\n",
        "Temp3 = -gain*(current-threshold);  \n",
        "Temp4 = 1 + np.exp(Temp3)\n",
        "rss = np.divide(rmax, Temp4);\n",
        "\n",
        "Temp5 = rss - rate[i-1].reshape(1,-1)\n",
        "Temp6 = np.multiply (Temp5, (dt/tau))\n",
        "qi = np.add(rate[i-1].reshape(1,-1), Temp6)"
      ],
      "metadata": {
        "id": "5lwIqsIRMPgT"
      },
      "execution_count": null,
      "outputs": []
    },
    {
      "cell_type": "code",
      "source": [
        "print(qi.shape)"
      ],
      "metadata": {
        "colab": {
          "base_uri": "https://localhost:8080/"
        },
        "id": "4aJrmHv6jkhA",
        "outputId": "85f130a9-d093-4803-9769-16014100463c"
      },
      "execution_count": null,
      "outputs": [
        {
          "output_type": "stream",
          "name": "stdout",
          "text": [
            "(1, 289)\n"
          ]
        }
      ]
    },
    {
      "cell_type": "code",
      "source": [
        "values1 = np.random.rand(Ncells, 1)\n",
        "print(len(values1))\n",
        "flipinputs = []\n",
        "for i in range(len(values1)):\n",
        "  if(values1[i] < 0.01):\n",
        "    flipinputs.append(i);\n",
        "\n",
        "print(flipinputs)\n",
        "values1[0]\n"
      ],
      "metadata": {
        "colab": {
          "base_uri": "https://localhost:8080/"
        },
        "id": "3BR-_FBzb2dT",
        "outputId": "1582a5a2-40c6-4173-b874-5a595a179f33"
      },
      "execution_count": null,
      "outputs": [
        {
          "output_type": "stream",
          "name": "stdout",
          "text": [
            "289\n",
            "[23, 33, 49, 136]\n"
          ]
        },
        {
          "output_type": "execute_result",
          "data": {
            "text/plain": [
              "array([0.04352828])"
            ]
          },
          "metadata": {},
          "execution_count": 181
        }
      ]
    },
    {
      "cell_type": "code",
      "source": [
        "\n",
        "X= input_pattern\n",
        "\n",
        "X = X.flatten('F')\n",
        "print(X)\n",
        "for i in range(len(X)):\n",
        "  if i in flipinputs[0:]:\n",
        "    print(i)\n",
        "    X[flipinputs] = 1-X[flipinputs]\n",
        "arr_2d = np.reshape(X, (17, 17), order='F')\n",
        "print(arr_2d)"
      ],
      "metadata": {
        "colab": {
          "base_uri": "https://localhost:8080/"
        },
        "id": "R9RypNkHj2R6",
        "outputId": "0fc8912d-3c27-4422-b5dc-8a3b112556d5"
      },
      "execution_count": null,
      "outputs": [
        {
          "output_type": "stream",
          "name": "stdout",
          "text": [
            "[0. 0. 0. 0. 0. 0. 0. 0. 0. 0. 0. 0. 0. 0. 0. 0. 0. 0. 1. 1. 1. 1. 1. 1.\n",
            " 1. 1. 1. 1. 1. 1. 1. 1. 1. 0. 0. 1. 0. 0. 0. 0. 0. 0. 0. 0. 0. 0. 0. 0.\n",
            " 0. 1. 0. 0. 1. 0. 0. 0. 0. 0. 0. 0. 0. 0. 0. 0. 0. 0. 1. 0. 0. 1. 0. 0.\n",
            " 0. 0. 0. 0. 0. 0. 0. 0. 0. 0. 0. 1. 0. 0. 1. 0. 0. 0. 0. 0. 0. 0. 0. 0.\n",
            " 0. 0. 0. 0. 1. 0. 0. 1. 0. 0. 0. 0. 0. 0. 0. 0. 0. 0. 0. 0. 0. 1. 0. 0.\n",
            " 1. 0. 0. 0. 0. 0. 0. 0. 0. 0. 0. 0. 0. 0. 1. 0. 0. 1. 0. 0. 0. 0. 0. 0.\n",
            " 0. 0. 0. 0. 0. 0. 0. 1. 0. 0. 1. 0. 0. 0. 0. 0. 0. 0. 0. 0. 0. 0. 0. 0.\n",
            " 1. 0. 0. 1. 0. 0. 0. 0. 0. 0. 0. 0. 0. 0. 0. 0. 0. 1. 0. 0. 1. 0. 0. 0.\n",
            " 0. 0. 0. 0. 0. 0. 0. 0. 0. 0. 1. 0. 0. 1. 0. 0. 0. 0. 0. 0. 0. 0. 0. 0.\n",
            " 0. 0. 0. 1. 0. 0. 1. 0. 0. 0. 0. 0. 0. 0. 0. 0. 0. 0. 0. 0. 1. 0. 0. 1.\n",
            " 0. 0. 0. 0. 0. 0. 0. 0. 0. 0. 0. 0. 0. 1. 0. 0. 1. 1. 1. 1. 1. 1. 1. 1.\n",
            " 1. 1. 1. 1. 1. 1. 1. 0. 0. 0. 0. 0. 0. 0. 0. 0. 0. 0. 0. 0. 0. 0. 0. 0.\n",
            " 0.]\n",
            "23\n",
            "33\n",
            "49\n",
            "136\n",
            "[[0. 0. 0. 0. 0. 0. 0. 0. 0. 0. 0. 0. 0. 0. 0. 0. 0.]\n",
            " [0. 1. 1. 1. 1. 1. 1. 1. 1. 1. 1. 1. 1. 1. 1. 1. 0.]\n",
            " [0. 1. 0. 0. 0. 0. 0. 0. 0. 0. 0. 0. 0. 0. 0. 1. 0.]\n",
            " [0. 1. 0. 0. 0. 0. 0. 0. 0. 0. 0. 0. 0. 0. 0. 1. 0.]\n",
            " [0. 1. 0. 0. 0. 0. 0. 0. 0. 0. 0. 0. 0. 0. 0. 1. 0.]\n",
            " [0. 1. 0. 0. 0. 0. 0. 0. 0. 0. 0. 0. 0. 0. 0. 1. 0.]\n",
            " [0. 1. 0. 0. 0. 0. 0. 0. 0. 0. 0. 0. 0. 0. 0. 1. 0.]\n",
            " [0. 1. 0. 0. 0. 0. 0. 0. 0. 0. 0. 0. 0. 0. 0. 1. 0.]\n",
            " [0. 1. 0. 0. 0. 0. 0. 0. 0. 0. 0. 0. 0. 0. 0. 1. 0.]\n",
            " [0. 1. 0. 0. 0. 0. 0. 0. 0. 0. 0. 0. 0. 0. 0. 1. 0.]\n",
            " [0. 1. 0. 0. 0. 0. 0. 0. 0. 0. 0. 0. 0. 0. 0. 1. 0.]\n",
            " [0. 1. 0. 0. 0. 0. 0. 0. 0. 0. 0. 0. 0. 0. 0. 1. 0.]\n",
            " [0. 1. 0. 0. 0. 0. 0. 0. 0. 0. 0. 0. 0. 0. 0. 1. 0.]\n",
            " [0. 1. 0. 0. 0. 0. 0. 0. 0. 0. 0. 0. 0. 0. 0. 1. 0.]\n",
            " [0. 1. 0. 0. 0. 0. 0. 0. 0. 0. 0. 0. 0. 0. 0. 1. 0.]\n",
            " [0. 1. 1. 1. 1. 1. 1. 1. 1. 1. 1. 1. 1. 1. 1. 1. 0.]\n",
            " [0. 0. 0. 0. 0. 0. 0. 0. 0. 0. 0. 0. 0. 0. 0. 0. 0.]]\n"
          ]
        }
      ]
    },
    {
      "cell_type": "code",
      "source": [
        "Temp1 = np.multiply(Y,inputstrength)\n",
        "Temp2 = np.multiply(rate[i-1],W)\n",
        "Temp1"
      ],
      "metadata": {
        "colab": {
          "base_uri": "https://localhost:8080/",
          "height": 200
        },
        "id": "BUzvkwZZlr2c",
        "outputId": "761dd7cb-f350-4815-bd41-05375ac1cc24"
      },
      "execution_count": null,
      "outputs": [
        {
          "output_type": "error",
          "ename": "AttributeError",
          "evalue": "ignored",
          "traceback": [
            "\u001b[0;31m---------------------------------------------------------------------------\u001b[0m",
            "\u001b[0;31mAttributeError\u001b[0m                            Traceback (most recent call last)",
            "\u001b[0;32m<ipython-input-205-fa53bfe76043>\u001b[0m in \u001b[0;36m<module>\u001b[0;34m()\u001b[0m\n\u001b[1;32m      1\u001b[0m \u001b[0mTemp1\u001b[0m \u001b[0;34m=\u001b[0m \u001b[0mnp\u001b[0m\u001b[0;34m.\u001b[0m\u001b[0mmultiply\u001b[0m\u001b[0;34m(\u001b[0m\u001b[0mY\u001b[0m\u001b[0;34m,\u001b[0m\u001b[0minputstrength\u001b[0m\u001b[0;34m)\u001b[0m\u001b[0;34m\u001b[0m\u001b[0;34m\u001b[0m\u001b[0m\n\u001b[1;32m      2\u001b[0m \u001b[0mTemp2\u001b[0m \u001b[0;34m=\u001b[0m \u001b[0mnp\u001b[0m\u001b[0;34m.\u001b[0m\u001b[0mmultiply\u001b[0m\u001b[0;34m(\u001b[0m\u001b[0mrate\u001b[0m\u001b[0;34m[\u001b[0m\u001b[0mi\u001b[0m\u001b[0;34m-\u001b[0m\u001b[0;36m1\u001b[0m\u001b[0;34m]\u001b[0m\u001b[0;34m,\u001b[0m\u001b[0mW\u001b[0m\u001b[0;34m)\u001b[0m\u001b[0;34m\u001b[0m\u001b[0;34m\u001b[0m\u001b[0m\n\u001b[0;32m----> 3\u001b[0;31m \u001b[0mTemp1\u001b[0m\u001b[0;34m.\u001b[0m\u001b[0mdim\u001b[0m\u001b[0;34m\u001b[0m\u001b[0;34m\u001b[0m\u001b[0m\n\u001b[0m",
            "\u001b[0;31mAttributeError\u001b[0m: 'numpy.ndarray' object has no attribute 'dim'"
          ]
        }
      ]
    },
    {
      "cell_type": "code",
      "source": [
        "np.seterr(divide='ignore', invalid='ignore')\n",
        "A = np.random.rand(3, 3)\n",
        "print(A)\n",
        "print(A[2])\n",
        "\n",
        "A[A>0.2] =0.2\n",
        "A\n"
      ],
      "metadata": {
        "colab": {
          "base_uri": "https://localhost:8080/"
        },
        "id": "5_6T1AVHv4et",
        "outputId": "6ebe3be3-b743-4020-8188-4ddb5f07bc66"
      },
      "execution_count": null,
      "outputs": [
        {
          "output_type": "stream",
          "name": "stdout",
          "text": [
            "[[0.75322299 0.66783585 0.73878038]\n",
            " [0.70374564 0.56677883 0.60792115]\n",
            " [0.53876744 0.1940833  0.39802986]]\n",
            "[0.53876744 0.1940833  0.39802986]\n"
          ]
        },
        {
          "output_type": "execute_result",
          "data": {
            "text/plain": [
              "array([[0.2      , 0.2      , 0.2      ],\n",
              "       [0.2      , 0.2      , 0.2      ],\n",
              "       [0.2      , 0.1940833, 0.2      ]])"
            ]
          },
          "metadata": {},
          "execution_count": 243
        }
      ]
    }
  ]
}